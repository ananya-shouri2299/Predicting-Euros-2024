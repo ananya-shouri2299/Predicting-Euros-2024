{
 "cells": [
  {
   "cell_type": "code",
   "id": "initial_id",
   "metadata": {
    "collapsed": true,
    "ExecuteTime": {
     "end_time": "2024-06-18T18:28:51.548873Z",
     "start_time": "2024-06-18T18:28:51.534909Z"
    }
   },
   "source": [
    "import pandas as pd\n",
    "import numpy as np\n"
   ],
   "outputs": [],
   "execution_count": 228
  },
  {
   "metadata": {
    "ExecuteTime": {
     "end_time": "2024-06-18T18:28:53.967612Z",
     "start_time": "2024-06-18T18:28:53.947142Z"
    }
   },
   "cell_type": "code",
   "source": [
    "df_UEFA_missing_data = pd.read_csv('UEFA_missing_data.csv')\n",
    "df_UEFA = pd.read_csv('UEFA_last_10_year_matches.csv')\n",
    "df_fixtures = pd.read_csv('UEFA_Euro_2024_fixture.csv')"
   ],
   "id": "6127a68080f76aaf",
   "outputs": [],
   "execution_count": 229
  },
  {
   "metadata": {
    "ExecuteTime": {
     "end_time": "2024-06-18T18:28:55.203669Z",
     "start_time": "2024-06-18T18:28:55.198282Z"
    }
   },
   "cell_type": "code",
   "source": "import os\n",
   "id": "75fdf44092e991aa",
   "outputs": [],
   "execution_count": 230
  },
  {
   "metadata": {
    "ExecuteTime": {
     "end_time": "2024-06-18T18:28:57.668356Z",
     "start_time": "2024-06-18T18:28:57.662732Z"
    }
   },
   "cell_type": "code",
   "source": "os.getcwd()",
   "id": "26ae7cc7b00ea39f",
   "outputs": [
    {
     "data": {
      "text/plain": [
       "'C:\\\\Users\\\\Ananya\\\\AppData\\\\Roaming\\\\JetBrains\\\\PyCharm2024.1\\\\scratches'"
      ]
     },
     "execution_count": 231,
     "metadata": {},
     "output_type": "execute_result"
    }
   ],
   "execution_count": 231
  },
  {
   "metadata": {
    "ExecuteTime": {
     "end_time": "2024-06-18T18:28:58.481504Z",
     "start_time": "2024-06-18T18:28:58.475362Z"
    }
   },
   "cell_type": "code",
   "source": "os.chdir(r'C:\\Users\\Ananya\\AppData\\Roaming\\JetBrains\\PyCharm2024.1\\scratches')",
   "id": "9476f67d817630c5",
   "outputs": [],
   "execution_count": 232
  },
  {
   "metadata": {
    "ExecuteTime": {
     "end_time": "2024-06-18T18:28:59.397537Z",
     "start_time": "2024-06-18T18:28:59.390949Z"
    }
   },
   "cell_type": "code",
   "source": [
    "df_fixtures['home'] = df_fixtures['home'].str.strip()\n",
    "df_fixtures['away'] = df_fixtures['away'].str.strip()"
   ],
   "id": "44f485ed8ac1c103",
   "outputs": [],
   "execution_count": 233
  },
  {
   "metadata": {
    "ExecuteTime": {
     "end_time": "2024-06-18T18:29:00.723972Z",
     "start_time": "2024-06-18T18:29:00.702633Z"
    }
   },
   "cell_type": "code",
   "source": [
    "df_UEFA_missing_data[df_UEFA_missing_data['home'].isnull()].dropna()\n",
    "df_UEFA_missing_data[df_UEFA_missing_data['away'].isnull()].dropna()\n",
    "df_UEFA_missing_data.dropna(inplace=True)\n",
    "df_UEFA[df_UEFA['home'].isnull()].dropna()\n",
    "df_UEFA[df_UEFA['away'].isnull()].dropna()\n",
    "\n",
    "df_UEFA = pd.concat([df_UEFA, df_UEFA_missing_data], ignore_index=True)\n",
    "df_UEFA.drop_duplicates(inplace=True)\n",
    "df_UEFA.sort_values('Tournament', inplace=True)\n",
    "df_UEFA = df_UEFA.replace(to_replace='None', value=np.nan).dropna()"
   ],
   "id": "5b3de2c913adce08",
   "outputs": [],
   "execution_count": 234
  },
  {
   "metadata": {
    "ExecuteTime": {
     "end_time": "2024-06-18T18:29:01.830658Z",
     "start_time": "2024-06-18T18:29:01.804569Z"
    }
   },
   "cell_type": "code",
   "source": [
    "df_UEFA['score'] = df_UEFA[r'score'].str.replace('[^\\\\d–]', '', regex=True)\n",
    "df_UEFA['home'] = df_UEFA[r'home'].str.strip()\n",
    "df_UEFA['away'] = df_UEFA[r'away'].str.strip()\n",
    "df_UEFA[['HomeGoals', 'AwayGoals']]=df_UEFA[r'score'].str.split('–', expand = True)\n",
    "df_UEFA.drop('score', axis=1, inplace=True)\n",
    "df_UEFA['AwayGoals'] = df_UEFA['AwayGoals'].replace(to_replace='None', value=np.nan).dropna()\n",
    "df_UEFA.dropna(inplace=True)"
   ],
   "id": "fcc8d5e9fb8f3dbd",
   "outputs": [],
   "execution_count": 235
  },
  {
   "metadata": {
    "ExecuteTime": {
     "end_time": "2024-06-18T18:29:09.977801Z",
     "start_time": "2024-06-18T18:29:09.963125Z"
    }
   },
   "cell_type": "code",
   "source": "df_UEFA",
   "id": "6cd0b2d84dc02862",
   "outputs": [
    {
     "data": {
      "text/plain": [
       "                        home                    away  \\\n",
       "220              Ivory Coast                Portugal   \n",
       "185                  Uruguay                  France   \n",
       "184             South Africa                  Mexico   \n",
       "221                   Brazil             North Korea   \n",
       "222                   Brazil             Ivory Coast   \n",
       "...                      ...                     ...   \n",
       "1426                Slovakia              Luxembourg   \n",
       "1425                Portugal           Liechtenstein   \n",
       "1424  Bosnia and Herzegovina                 Iceland   \n",
       "1439                 Iceland  Bosnia and Herzegovina   \n",
       "1432                Portugal  Bosnia and Herzegovina   \n",
       "\n",
       "                             Tournament HomeGoals AwayGoals  \n",
       "220                 2010_FIFA_World_Cup         0         0  \n",
       "185                 2010_FIFA_World_Cup         0         0  \n",
       "184                 2010_FIFA_World_Cup         1         1  \n",
       "221                 2010_FIFA_World_Cup         2         1  \n",
       "222                 2010_FIFA_World_Cup         3         1  \n",
       "...                                 ...       ...       ...  \n",
       "1426  UEFA_Euro_2024_qualifying_Group_J         0         0  \n",
       "1425  UEFA_Euro_2024_qualifying_Group_J         4         0  \n",
       "1424  UEFA_Euro_2024_qualifying_Group_J         3         0  \n",
       "1439  UEFA_Euro_2024_qualifying_Group_J         1         0  \n",
       "1432  UEFA_Euro_2024_qualifying_Group_J         3         0  \n",
       "\n",
       "[1740 rows x 5 columns]"
      ],
      "text/html": [
       "<div>\n",
       "<style scoped>\n",
       "    .dataframe tbody tr th:only-of-type {\n",
       "        vertical-align: middle;\n",
       "    }\n",
       "\n",
       "    .dataframe tbody tr th {\n",
       "        vertical-align: top;\n",
       "    }\n",
       "\n",
       "    .dataframe thead th {\n",
       "        text-align: right;\n",
       "    }\n",
       "</style>\n",
       "<table border=\"1\" class=\"dataframe\">\n",
       "  <thead>\n",
       "    <tr style=\"text-align: right;\">\n",
       "      <th></th>\n",
       "      <th>home</th>\n",
       "      <th>away</th>\n",
       "      <th>Tournament</th>\n",
       "      <th>HomeGoals</th>\n",
       "      <th>AwayGoals</th>\n",
       "    </tr>\n",
       "  </thead>\n",
       "  <tbody>\n",
       "    <tr>\n",
       "      <th>220</th>\n",
       "      <td>Ivory Coast</td>\n",
       "      <td>Portugal</td>\n",
       "      <td>2010_FIFA_World_Cup</td>\n",
       "      <td>0</td>\n",
       "      <td>0</td>\n",
       "    </tr>\n",
       "    <tr>\n",
       "      <th>185</th>\n",
       "      <td>Uruguay</td>\n",
       "      <td>France</td>\n",
       "      <td>2010_FIFA_World_Cup</td>\n",
       "      <td>0</td>\n",
       "      <td>0</td>\n",
       "    </tr>\n",
       "    <tr>\n",
       "      <th>184</th>\n",
       "      <td>South Africa</td>\n",
       "      <td>Mexico</td>\n",
       "      <td>2010_FIFA_World_Cup</td>\n",
       "      <td>1</td>\n",
       "      <td>1</td>\n",
       "    </tr>\n",
       "    <tr>\n",
       "      <th>221</th>\n",
       "      <td>Brazil</td>\n",
       "      <td>North Korea</td>\n",
       "      <td>2010_FIFA_World_Cup</td>\n",
       "      <td>2</td>\n",
       "      <td>1</td>\n",
       "    </tr>\n",
       "    <tr>\n",
       "      <th>222</th>\n",
       "      <td>Brazil</td>\n",
       "      <td>Ivory Coast</td>\n",
       "      <td>2010_FIFA_World_Cup</td>\n",
       "      <td>3</td>\n",
       "      <td>1</td>\n",
       "    </tr>\n",
       "    <tr>\n",
       "      <th>...</th>\n",
       "      <td>...</td>\n",
       "      <td>...</td>\n",
       "      <td>...</td>\n",
       "      <td>...</td>\n",
       "      <td>...</td>\n",
       "    </tr>\n",
       "    <tr>\n",
       "      <th>1426</th>\n",
       "      <td>Slovakia</td>\n",
       "      <td>Luxembourg</td>\n",
       "      <td>UEFA_Euro_2024_qualifying_Group_J</td>\n",
       "      <td>0</td>\n",
       "      <td>0</td>\n",
       "    </tr>\n",
       "    <tr>\n",
       "      <th>1425</th>\n",
       "      <td>Portugal</td>\n",
       "      <td>Liechtenstein</td>\n",
       "      <td>UEFA_Euro_2024_qualifying_Group_J</td>\n",
       "      <td>4</td>\n",
       "      <td>0</td>\n",
       "    </tr>\n",
       "    <tr>\n",
       "      <th>1424</th>\n",
       "      <td>Bosnia and Herzegovina</td>\n",
       "      <td>Iceland</td>\n",
       "      <td>UEFA_Euro_2024_qualifying_Group_J</td>\n",
       "      <td>3</td>\n",
       "      <td>0</td>\n",
       "    </tr>\n",
       "    <tr>\n",
       "      <th>1439</th>\n",
       "      <td>Iceland</td>\n",
       "      <td>Bosnia and Herzegovina</td>\n",
       "      <td>UEFA_Euro_2024_qualifying_Group_J</td>\n",
       "      <td>1</td>\n",
       "      <td>0</td>\n",
       "    </tr>\n",
       "    <tr>\n",
       "      <th>1432</th>\n",
       "      <td>Portugal</td>\n",
       "      <td>Bosnia and Herzegovina</td>\n",
       "      <td>UEFA_Euro_2024_qualifying_Group_J</td>\n",
       "      <td>3</td>\n",
       "      <td>0</td>\n",
       "    </tr>\n",
       "  </tbody>\n",
       "</table>\n",
       "<p>1740 rows × 5 columns</p>\n",
       "</div>"
      ]
     },
     "execution_count": 236,
     "metadata": {},
     "output_type": "execute_result"
    }
   ],
   "execution_count": 236
  },
  {
   "metadata": {
    "ExecuteTime": {
     "end_time": "2024-06-18T18:29:14.738158Z",
     "start_time": "2024-06-18T18:29:14.729519Z"
    }
   },
   "cell_type": "code",
   "source": [
    "df_UEFA[['HomeGoals']] = df_UEFA[['HomeGoals']].astype(int)\n",
    "df_UEFA[['AwayGoals']] = df_UEFA[['AwayGoals']].astype(int)\n",
    "\n"
   ],
   "id": "6bd363fe6a5d187c",
   "outputs": [],
   "execution_count": 237
  },
  {
   "metadata": {
    "ExecuteTime": {
     "end_time": "2024-06-18T18:29:17.394610Z",
     "start_time": "2024-06-18T18:29:17.386993Z"
    }
   },
   "cell_type": "code",
   "source": "df_UEFA.dtypes",
   "id": "3e283c970d61d228",
   "outputs": [
    {
     "data": {
      "text/plain": [
       "home          object\n",
       "away          object\n",
       "Tournament    object\n",
       "HomeGoals      int32\n",
       "AwayGoals      int32\n",
       "dtype: object"
      ]
     },
     "execution_count": 238,
     "metadata": {},
     "output_type": "execute_result"
    }
   ],
   "execution_count": 238
  },
  {
   "metadata": {
    "ExecuteTime": {
     "end_time": "2024-06-18T18:29:23.463176Z",
     "start_time": "2024-06-18T18:29:23.452002Z"
    }
   },
   "cell_type": "code",
   "source": [
    "df_UEFA['TotalGoals'] = df_UEFA['HomeGoals'] + df_UEFA['AwayGoals']\n",
    "df_UEFA"
   ],
   "id": "8c136a0f004f4e1c",
   "outputs": [
    {
     "data": {
      "text/plain": [
       "                        home                    away  \\\n",
       "220              Ivory Coast                Portugal   \n",
       "185                  Uruguay                  France   \n",
       "184             South Africa                  Mexico   \n",
       "221                   Brazil             North Korea   \n",
       "222                   Brazil             Ivory Coast   \n",
       "...                      ...                     ...   \n",
       "1426                Slovakia              Luxembourg   \n",
       "1425                Portugal           Liechtenstein   \n",
       "1424  Bosnia and Herzegovina                 Iceland   \n",
       "1439                 Iceland  Bosnia and Herzegovina   \n",
       "1432                Portugal  Bosnia and Herzegovina   \n",
       "\n",
       "                             Tournament  HomeGoals  AwayGoals  TotalGoals  \n",
       "220                 2010_FIFA_World_Cup          0          0           0  \n",
       "185                 2010_FIFA_World_Cup          0          0           0  \n",
       "184                 2010_FIFA_World_Cup          1          1           2  \n",
       "221                 2010_FIFA_World_Cup          2          1           3  \n",
       "222                 2010_FIFA_World_Cup          3          1           4  \n",
       "...                                 ...        ...        ...         ...  \n",
       "1426  UEFA_Euro_2024_qualifying_Group_J          0          0           0  \n",
       "1425  UEFA_Euro_2024_qualifying_Group_J          4          0           4  \n",
       "1424  UEFA_Euro_2024_qualifying_Group_J          3          0           3  \n",
       "1439  UEFA_Euro_2024_qualifying_Group_J          1          0           1  \n",
       "1432  UEFA_Euro_2024_qualifying_Group_J          3          0           3  \n",
       "\n",
       "[1740 rows x 6 columns]"
      ],
      "text/html": [
       "<div>\n",
       "<style scoped>\n",
       "    .dataframe tbody tr th:only-of-type {\n",
       "        vertical-align: middle;\n",
       "    }\n",
       "\n",
       "    .dataframe tbody tr th {\n",
       "        vertical-align: top;\n",
       "    }\n",
       "\n",
       "    .dataframe thead th {\n",
       "        text-align: right;\n",
       "    }\n",
       "</style>\n",
       "<table border=\"1\" class=\"dataframe\">\n",
       "  <thead>\n",
       "    <tr style=\"text-align: right;\">\n",
       "      <th></th>\n",
       "      <th>home</th>\n",
       "      <th>away</th>\n",
       "      <th>Tournament</th>\n",
       "      <th>HomeGoals</th>\n",
       "      <th>AwayGoals</th>\n",
       "      <th>TotalGoals</th>\n",
       "    </tr>\n",
       "  </thead>\n",
       "  <tbody>\n",
       "    <tr>\n",
       "      <th>220</th>\n",
       "      <td>Ivory Coast</td>\n",
       "      <td>Portugal</td>\n",
       "      <td>2010_FIFA_World_Cup</td>\n",
       "      <td>0</td>\n",
       "      <td>0</td>\n",
       "      <td>0</td>\n",
       "    </tr>\n",
       "    <tr>\n",
       "      <th>185</th>\n",
       "      <td>Uruguay</td>\n",
       "      <td>France</td>\n",
       "      <td>2010_FIFA_World_Cup</td>\n",
       "      <td>0</td>\n",
       "      <td>0</td>\n",
       "      <td>0</td>\n",
       "    </tr>\n",
       "    <tr>\n",
       "      <th>184</th>\n",
       "      <td>South Africa</td>\n",
       "      <td>Mexico</td>\n",
       "      <td>2010_FIFA_World_Cup</td>\n",
       "      <td>1</td>\n",
       "      <td>1</td>\n",
       "      <td>2</td>\n",
       "    </tr>\n",
       "    <tr>\n",
       "      <th>221</th>\n",
       "      <td>Brazil</td>\n",
       "      <td>North Korea</td>\n",
       "      <td>2010_FIFA_World_Cup</td>\n",
       "      <td>2</td>\n",
       "      <td>1</td>\n",
       "      <td>3</td>\n",
       "    </tr>\n",
       "    <tr>\n",
       "      <th>222</th>\n",
       "      <td>Brazil</td>\n",
       "      <td>Ivory Coast</td>\n",
       "      <td>2010_FIFA_World_Cup</td>\n",
       "      <td>3</td>\n",
       "      <td>1</td>\n",
       "      <td>4</td>\n",
       "    </tr>\n",
       "    <tr>\n",
       "      <th>...</th>\n",
       "      <td>...</td>\n",
       "      <td>...</td>\n",
       "      <td>...</td>\n",
       "      <td>...</td>\n",
       "      <td>...</td>\n",
       "      <td>...</td>\n",
       "    </tr>\n",
       "    <tr>\n",
       "      <th>1426</th>\n",
       "      <td>Slovakia</td>\n",
       "      <td>Luxembourg</td>\n",
       "      <td>UEFA_Euro_2024_qualifying_Group_J</td>\n",
       "      <td>0</td>\n",
       "      <td>0</td>\n",
       "      <td>0</td>\n",
       "    </tr>\n",
       "    <tr>\n",
       "      <th>1425</th>\n",
       "      <td>Portugal</td>\n",
       "      <td>Liechtenstein</td>\n",
       "      <td>UEFA_Euro_2024_qualifying_Group_J</td>\n",
       "      <td>4</td>\n",
       "      <td>0</td>\n",
       "      <td>4</td>\n",
       "    </tr>\n",
       "    <tr>\n",
       "      <th>1424</th>\n",
       "      <td>Bosnia and Herzegovina</td>\n",
       "      <td>Iceland</td>\n",
       "      <td>UEFA_Euro_2024_qualifying_Group_J</td>\n",
       "      <td>3</td>\n",
       "      <td>0</td>\n",
       "      <td>3</td>\n",
       "    </tr>\n",
       "    <tr>\n",
       "      <th>1439</th>\n",
       "      <td>Iceland</td>\n",
       "      <td>Bosnia and Herzegovina</td>\n",
       "      <td>UEFA_Euro_2024_qualifying_Group_J</td>\n",
       "      <td>1</td>\n",
       "      <td>0</td>\n",
       "      <td>1</td>\n",
       "    </tr>\n",
       "    <tr>\n",
       "      <th>1432</th>\n",
       "      <td>Portugal</td>\n",
       "      <td>Bosnia and Herzegovina</td>\n",
       "      <td>UEFA_Euro_2024_qualifying_Group_J</td>\n",
       "      <td>3</td>\n",
       "      <td>0</td>\n",
       "      <td>3</td>\n",
       "    </tr>\n",
       "  </tbody>\n",
       "</table>\n",
       "<p>1740 rows × 6 columns</p>\n",
       "</div>"
      ]
     },
     "execution_count": 239,
     "metadata": {},
     "output_type": "execute_result"
    }
   ],
   "execution_count": 239
  },
  {
   "metadata": {
    "ExecuteTime": {
     "end_time": "2024-06-18T18:29:29.666947Z",
     "start_time": "2024-06-18T18:29:29.650012Z"
    }
   },
   "cell_type": "code",
   "source": [
    "df_UEFA.to_csv('clean_UEFA_last_10_year_matches.csv', index = False)\n",
    "df_fixtures.to_csv('clean_UEFA_Euro_2024_fixture.csv', index = False)"
   ],
   "id": "913b6dbc294cba75",
   "outputs": [],
   "execution_count": 240
  },
  {
   "metadata": {
    "ExecuteTime": {
     "end_time": "2024-06-18T18:37:10.990402Z",
     "start_time": "2024-06-18T18:37:10.939376Z"
    }
   },
   "cell_type": "code",
   "source": [
    "Tournaments = ['UEFA_Euro_2024', 'UEFA_Euro_2016', 'UEFA_Euro_2012', 'UEFA_Euro_2020', '2010_FIFA_World_Cup', '2014_FIFA_World_Cup', '2018_FIFA_World_Cup', '2022_FIFA_World_Cup', '2022–23_UEFA_Nations_League_C', '2018–19_UEFA_Nations_League_B',\n",
    "'2022_FIFA_World_Cup_qualification_–_UEFA_Group_C', '2022_FIFA_World_Cup_qualification_–_UEFA_Group_E', '2022_FIFA_World_Cup_qualification_–_UEFA_Group_F', '2022_FIFA_World_Cup_qualification_–_UEFA_Group_G', '2022_FIFA_World_Cup_qualification_–_UEFA_Group_H', '2022_FIFA_World_Cup_qualification_–_UEFA_Group_I',\n",
    "'2022_FIFA_World_Cup_qualification_–_UEFA_Group_I', '2018_FIFA_World_Cup_qualification_–_UEFA_Group_A', '2018_FIFA_World_Cup_qualification_–_UEFA_Group_B', '2018_FIFA_World_Cup_qualification_–_UEFA_Group_C', '2018_FIFA_World_Cup_qualification_–_UEFA_Group_D', '2018_FIFA_World_Cup_qualification_–_UEFA_Group_E',\n",
    "'2018_FIFA_World_Cup_qualification_–_UEFA_Group_F', '2018_FIFA_World_Cup_qualification_–_UEFA_Group_G', '2018_FIFA_World_Cup_qualification_–_UEFA_Group_H', '2018_FIFA_World_Cup_qualification_–_UEFA_Group_I',\n",
    "'UEFA_Euro_2020_qualifying_Group_A', 'UEFA_Euro_2020_qualifying_Group_B', 'UEFA_Euro_2020_qualifying_Group_B', 'UEFA_Euro_2020_qualifying_Group_D', 'UEFA_Euro_2020_qualifying_Group_E', 'UEFA_Euro_2020_qualifying_Group_F', 'UEFA_Euro_2020_qualifying_Group_G', 'UEFA_Euro_2020_qualifying_Group_H', 'UEFA_Euro_2020_qualifying_Group_I', 'UEFA_Euro_2020_qualifying_Group_J',\n",
    "'UEFA_Euro_2024_qualifying_Group_A', 'UEFA_Euro_2024_qualifying_Group_B', 'UEFA_Euro_2024_qualifying_Group_C', 'UEFA_Euro_2024_qualifying_Group_D', 'UEFA_Euro_2024_qualifying_Group_E', 'UEFA_Euro_2024_qualifying_Group_F', 'UEFA_Euro_2024_qualifying_Group_G', 'UEFA_Euro_2024_qualifying_Group_H', 'UEFA_Euro_2024_qualifying_Group_I', 'UEFA_Euro_2024_qualifying_Group_J'\n",
    ", '2018–19_UEFA_Nations_League_A', '2018–19_UEFA_Nations_League_C', '2020–21_UEFA_Nations_League_A', '2020–21_UEFA_Nations_League_B', '2020–21_UEFA_Nations_League_C', '2022–23_UEFA_Nations_League_A', '2022–23_UEFA_Nations_League_B',\n",
    "'2022_FIFA_World_Cup_qualification_–_UEFA_Group_A', '2022_FIFA_World_Cup_qualification_–_UEFA_Group_B', '2022_FIFA_World_Cup_qualification_–_UEFA_Group_D']\n",
    "\n",
    "for Tournament in Tournaments:\n",
    "    print(Tournament, len(df_UEFA[df_UEFA['Tournament']==Tournament]))"
   ],
   "id": "2da222007bad4cc4",
   "outputs": [
    {
     "name": "stdout",
     "output_type": "stream",
     "text": [
      "UEFA_Euro_2024 11\n",
      "UEFA_Euro_2016 51\n",
      "UEFA_Euro_2012 31\n",
      "UEFA_Euro_2020 51\n",
      "2010_FIFA_World_Cup 64\n",
      "2014_FIFA_World_Cup 64\n",
      "2018_FIFA_World_Cup 64\n",
      "2022_FIFA_World_Cup 64\n",
      "2022–23_UEFA_Nations_League_C 50\n",
      "2018–19_UEFA_Nations_League_B 24\n",
      "2022_FIFA_World_Cup_qualification_–_UEFA_Group_C 20\n",
      "2022_FIFA_World_Cup_qualification_–_UEFA_Group_E 20\n",
      "2022_FIFA_World_Cup_qualification_–_UEFA_Group_F 30\n",
      "2022_FIFA_World_Cup_qualification_–_UEFA_Group_G 30\n",
      "2022_FIFA_World_Cup_qualification_–_UEFA_Group_H 30\n",
      "2022_FIFA_World_Cup_qualification_–_UEFA_Group_I 30\n",
      "2022_FIFA_World_Cup_qualification_–_UEFA_Group_I 30\n",
      "2018_FIFA_World_Cup_qualification_–_UEFA_Group_A 30\n",
      "2018_FIFA_World_Cup_qualification_–_UEFA_Group_B 30\n",
      "2018_FIFA_World_Cup_qualification_–_UEFA_Group_C 30\n",
      "2018_FIFA_World_Cup_qualification_–_UEFA_Group_D 30\n",
      "2018_FIFA_World_Cup_qualification_–_UEFA_Group_E 30\n",
      "2018_FIFA_World_Cup_qualification_–_UEFA_Group_F 30\n",
      "2018_FIFA_World_Cup_qualification_–_UEFA_Group_G 30\n",
      "2018_FIFA_World_Cup_qualification_–_UEFA_Group_H 30\n",
      "2018_FIFA_World_Cup_qualification_–_UEFA_Group_I 30\n",
      "UEFA_Euro_2020_qualifying_Group_A 20\n",
      "UEFA_Euro_2020_qualifying_Group_B 20\n",
      "UEFA_Euro_2020_qualifying_Group_B 20\n",
      "UEFA_Euro_2020_qualifying_Group_D 20\n",
      "UEFA_Euro_2020_qualifying_Group_E 20\n",
      "UEFA_Euro_2020_qualifying_Group_F 30\n",
      "UEFA_Euro_2020_qualifying_Group_G 30\n",
      "UEFA_Euro_2020_qualifying_Group_H 30\n",
      "UEFA_Euro_2020_qualifying_Group_I 30\n",
      "UEFA_Euro_2020_qualifying_Group_J 30\n",
      "UEFA_Euro_2024_qualifying_Group_A 20\n",
      "UEFA_Euro_2024_qualifying_Group_B 20\n",
      "UEFA_Euro_2024_qualifying_Group_C 20\n",
      "UEFA_Euro_2024_qualifying_Group_D 20\n",
      "UEFA_Euro_2024_qualifying_Group_E 20\n",
      "UEFA_Euro_2024_qualifying_Group_F 20\n",
      "UEFA_Euro_2024_qualifying_Group_G 20\n",
      "UEFA_Euro_2024_qualifying_Group_H 30\n",
      "UEFA_Euro_2024_qualifying_Group_I 30\n",
      "UEFA_Euro_2024_qualifying_Group_J 30\n",
      "2018–19_UEFA_Nations_League_A 28\n",
      "2018–19_UEFA_Nations_League_C 42\n",
      "2020–21_UEFA_Nations_League_A 52\n",
      "2020–21_UEFA_Nations_League_B 48\n",
      "2020–21_UEFA_Nations_League_C 52\n",
      "2022–23_UEFA_Nations_League_A 52\n",
      "2022–23_UEFA_Nations_League_B 42\n",
      "2022_FIFA_World_Cup_qualification_–_UEFA_Group_A 20\n",
      "2022_FIFA_World_Cup_qualification_–_UEFA_Group_B 20\n",
      "2022_FIFA_World_Cup_qualification_–_UEFA_Group_D 20\n"
     ]
    }
   ],
   "execution_count": 241
  },
  {
   "metadata": {},
   "cell_type": "code",
   "outputs": [],
   "execution_count": null,
   "source": "",
   "id": "1e1c4ac3a2494a92"
  }
 ],
 "metadata": {
  "kernelspec": {
   "display_name": "Python 3",
   "language": "python",
   "name": "python3"
  },
  "language_info": {
   "codemirror_mode": {
    "name": "ipython",
    "version": 2
   },
   "file_extension": ".py",
   "mimetype": "text/x-python",
   "name": "python",
   "nbconvert_exporter": "python",
   "pygments_lexer": "ipython2",
   "version": "2.7.6"
  }
 },
 "nbformat": 4,
 "nbformat_minor": 5
}
