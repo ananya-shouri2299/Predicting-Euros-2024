{
 "cells": [
  {
   "cell_type": "code",
   "id": "initial_id",
   "metadata": {
    "collapsed": true,
    "ExecuteTime": {
     "end_time": "2024-06-20T12:08:29.325460Z",
     "start_time": "2024-06-20T12:08:29.320838Z"
    }
   },
   "source": [
    "import pandas as pd\n",
    "import pickle\n",
    "from scipy.stats import poisson\n",
    "import os\n",
    "from string import ascii_uppercase as alphabet"
   ],
   "outputs": [],
   "execution_count": 137
  },
  {
   "metadata": {
    "ExecuteTime": {
     "end_time": "2024-06-20T12:08:29.694297Z",
     "start_time": "2024-06-20T12:08:29.691026Z"
    }
   },
   "cell_type": "code",
   "source": "os.chdir(r'C:\\Users\\Ananya\\PycharmProjects\\Euros Prediction')",
   "id": "c64e2bfcac6331f3",
   "outputs": [],
   "execution_count": 138
  },
  {
   "metadata": {
    "ExecuteTime": {
     "end_time": "2024-06-20T12:08:30.037077Z",
     "start_time": "2024-06-20T12:08:30.031453Z"
    }
   },
   "cell_type": "code",
   "source": "dict_table = pickle.load(open('dict_table', 'rb'))\n",
   "id": "7793136740573c9f",
   "outputs": [],
   "execution_count": 139
  },
  {
   "metadata": {
    "ExecuteTime": {
     "end_time": "2024-06-20T12:08:30.452023Z",
     "start_time": "2024-06-20T12:08:30.447924Z"
    }
   },
   "cell_type": "code",
   "source": [
    "import os\n",
    "os.getcwd()\n",
    "os.chdir(r'C:\\Users\\Ananya\\AppData\\Roaming\\JetBrains\\PyCharm2024.1\\scratches')"
   ],
   "id": "5b18f0e8527302c1",
   "outputs": [],
   "execution_count": 140
  },
  {
   "metadata": {
    "ExecuteTime": {
     "end_time": "2024-06-20T12:08:30.827280Z",
     "start_time": "2024-06-20T12:08:30.817374Z"
    }
   },
   "cell_type": "code",
   "source": [
    "df_UEFA = pd.read_csv('clean_UEFA_last_10_year_matches.csv')\n",
    "df_fixture = pd.read_csv('clean_UEFA_Euro_2024_fixture.csv')"
   ],
   "id": "6afb50919039b4e6",
   "outputs": [],
   "execution_count": 141
  },
  {
   "metadata": {
    "ExecuteTime": {
     "end_time": "2024-06-20T12:08:31.192446Z",
     "start_time": "2024-06-20T12:08:31.187559Z"
    }
   },
   "cell_type": "code",
   "source": [
    "df_home = df_UEFA[['home', 'HomeGoals', 'AwayGoals']]\n",
    "df_away = df_UEFA[['away', 'HomeGoals', 'AwayGoals']]"
   ],
   "id": "cd994ba6cf99bc94",
   "outputs": [],
   "execution_count": 142
  },
  {
   "metadata": {
    "ExecuteTime": {
     "end_time": "2024-06-20T12:08:31.559172Z",
     "start_time": "2024-06-20T12:08:31.550791Z"
    }
   },
   "cell_type": "code",
   "source": [
    "df_home = df_home.rename(columns={'home': 'Team', 'HomeGoals': 'GoalsScored', 'AwayGoals': 'GoalsConceded'})\n",
    "df_away = df_away.rename(columns = {'away': 'Team', 'HomeGoals': 'GoalsConceded', 'AwayGoals': 'GoalsScored'})\n",
    "df_team_strength = pd.concat([df_home, df_away], ignore_index=True).groupby('Team').mean()"
   ],
   "id": "67fa845048278d53",
   "outputs": [],
   "execution_count": 143
  },
  {
   "metadata": {
    "ExecuteTime": {
     "end_time": "2024-06-20T12:08:31.973022Z",
     "start_time": "2024-06-20T12:08:31.966751Z"
    }
   },
   "cell_type": "code",
   "source": [
    "def predict_points(home, away):\n",
    "    if home in df_team_strength.index and away in df_team_strength.index:\n",
    "        lamb_home = df_team_strength.at[home,'GoalsScored'] * df_team_strength.at[away,'GoalsConceded']\n",
    "        lamb_away = df_team_strength.at[away,'GoalsScored'] * df_team_strength.at[home,'GoalsConceded']\n",
    "        prob_home, prob_away, prob_draw = 0, 0, 0\n",
    "        for x in range(0, 11):\n",
    "            for y in range(0, 11):\n",
    "                p = poisson.pmf(x, lamb_home) * poisson.pmf(y, lamb_away)\n",
    "                if x==y:\n",
    "                    prob_draw += p\n",
    "                elif x > y:\n",
    "                    prob_home += p\n",
    "                else:\n",
    "                    prob_away += p\n",
    "        points_home = 3 * (prob_home + prob_draw)\n",
    "        points_away = 3 * (prob_away + prob_draw)\n",
    "        return points_home, points_away\n",
    "    else:\n",
    "        return 0, 0"
   ],
   "id": "eb49677087896fd",
   "outputs": [],
   "execution_count": 144
  },
  {
   "metadata": {
    "ExecuteTime": {
     "end_time": "2024-06-20T12:08:32.351834Z",
     "start_time": "2024-06-20T12:08:32.346023Z"
    }
   },
   "cell_type": "code",
   "source": [
    "df_fixture_group_36 = df_fixture[:36].copy()\n",
    "df_fixture_group_ro16 = df_fixture[36:44].copy()\n",
    "df_fixture_group_quarters = df_fixture[44:48].copy()\n",
    "df_fixture_group_semis = df_fixture[48:50].copy()\n",
    "df_fixture_group_final = df_fixture[50:].copy()\n"
   ],
   "id": "c3a6ca27e7694823",
   "outputs": [],
   "execution_count": 145
  },
  {
   "metadata": {
    "ExecuteTime": {
     "end_time": "2024-06-20T12:08:33.904715Z",
     "start_time": "2024-06-20T12:08:32.798576Z"
    }
   },
   "cell_type": "code",
   "source": [
    "for group in dict_table:\n",
    "    teams_in_group = dict_table[group]['Team'].values\n",
    "    df_fixture_group_6 = df_fixture_group_36[df_fixture_group_36['home'].isin(teams_in_group)]\n",
    "    for index, row in df_fixture_group_6.iterrows():\n",
    "        home, away = row['home'], row['away']\n",
    "        points_home, points_away = predict_points(home, away)\n",
    "        dict_table[group].loc[dict_table[group]['Team'] == home, 'Pts'] += points_home\n",
    "        dict_table[group].loc[dict_table[group]['Team'] == away, 'Pts'] += points_away\n",
    "    dict_table[group] = dict_table[group].sort_values('Pts', ascending=False).reset_index()\n",
    "    dict_table[group] = dict_table[group][['Team', 'Pts']]\n",
    "    dict_table[group] = dict_table[group].round(0)"
   ],
   "id": "1eac27f17c2f06b9",
   "outputs": [
    {
     "name": "stderr",
     "output_type": "stream",
     "text": [
      "C:\\Users\\Ananya\\AppData\\Local\\Temp\\ipykernel_25992\\62853046.py:7: FutureWarning: Setting an item of incompatible dtype is deprecated and will raise an error in a future version of pandas. Value '[5.22414904]' has dtype incompatible with int64, please explicitly cast to a compatible dtype first.\n",
      "  dict_table[group].loc[dict_table[group]['Team'] == home, 'Pts'] += points_home\n",
      "C:\\Users\\Ananya\\AppData\\Local\\Temp\\ipykernel_25992\\62853046.py:7: FutureWarning: Setting an item of incompatible dtype is deprecated and will raise an error in a future version of pandas. Value '[5.57755623]' has dtype incompatible with int64, please explicitly cast to a compatible dtype first.\n",
      "  dict_table[group].loc[dict_table[group]['Team'] == home, 'Pts'] += points_home\n",
      "C:\\Users\\Ananya\\AppData\\Local\\Temp\\ipykernel_25992\\62853046.py:7: FutureWarning: Setting an item of incompatible dtype is deprecated and will raise an error in a future version of pandas. Value '[2.40198341]' has dtype incompatible with int64, please explicitly cast to a compatible dtype first.\n",
      "  dict_table[group].loc[dict_table[group]['Team'] == home, 'Pts'] += points_home\n",
      "C:\\Users\\Ananya\\AppData\\Local\\Temp\\ipykernel_25992\\62853046.py:7: FutureWarning: Setting an item of incompatible dtype is deprecated and will raise an error in a future version of pandas. Value '[1.28777844]' has dtype incompatible with int64, please explicitly cast to a compatible dtype first.\n",
      "  dict_table[group].loc[dict_table[group]['Team'] == home, 'Pts'] += points_home\n",
      "C:\\Users\\Ananya\\AppData\\Local\\Temp\\ipykernel_25992\\62853046.py:7: FutureWarning: Setting an item of incompatible dtype is deprecated and will raise an error in a future version of pandas. Value '[4.93135729]' has dtype incompatible with int64, please explicitly cast to a compatible dtype first.\n",
      "  dict_table[group].loc[dict_table[group]['Team'] == home, 'Pts'] += points_home\n",
      "C:\\Users\\Ananya\\AppData\\Local\\Temp\\ipykernel_25992\\62853046.py:7: FutureWarning: Setting an item of incompatible dtype is deprecated and will raise an error in a future version of pandas. Value '[5.39070042]' has dtype incompatible with int64, please explicitly cast to a compatible dtype first.\n",
      "  dict_table[group].loc[dict_table[group]['Team'] == home, 'Pts'] += points_home\n"
     ]
    }
   ],
   "execution_count": 146
  },
  {
   "metadata": {
    "ExecuteTime": {
     "end_time": "2024-06-20T12:08:34.755831Z",
     "start_time": "2024-06-20T12:08:34.747960Z"
    }
   },
   "cell_type": "code",
   "source": [
    "dict_table['Group F'] \n",
    "\n"
   ],
   "id": "65eeba61498c111f",
   "outputs": [
    {
     "data": {
      "text/plain": [
       "             Team  Pts\n",
       "0          Turkey  9.0\n",
       "1        Portugal  8.0\n",
       "2  Czech Republic  5.0\n",
       "3         Georgia  3.0"
      ],
      "text/html": [
       "<div>\n",
       "<style scoped>\n",
       "    .dataframe tbody tr th:only-of-type {\n",
       "        vertical-align: middle;\n",
       "    }\n",
       "\n",
       "    .dataframe tbody tr th {\n",
       "        vertical-align: top;\n",
       "    }\n",
       "\n",
       "    .dataframe thead th {\n",
       "        text-align: right;\n",
       "    }\n",
       "</style>\n",
       "<table border=\"1\" class=\"dataframe\">\n",
       "  <thead>\n",
       "    <tr style=\"text-align: right;\">\n",
       "      <th></th>\n",
       "      <th>Team</th>\n",
       "      <th>Pts</th>\n",
       "    </tr>\n",
       "  </thead>\n",
       "  <tbody>\n",
       "    <tr>\n",
       "      <th>0</th>\n",
       "      <td>Turkey</td>\n",
       "      <td>9.0</td>\n",
       "    </tr>\n",
       "    <tr>\n",
       "      <th>1</th>\n",
       "      <td>Portugal</td>\n",
       "      <td>8.0</td>\n",
       "    </tr>\n",
       "    <tr>\n",
       "      <th>2</th>\n",
       "      <td>Czech Republic</td>\n",
       "      <td>5.0</td>\n",
       "    </tr>\n",
       "    <tr>\n",
       "      <th>3</th>\n",
       "      <td>Georgia</td>\n",
       "      <td>3.0</td>\n",
       "    </tr>\n",
       "  </tbody>\n",
       "</table>\n",
       "</div>"
      ]
     },
     "execution_count": 147,
     "metadata": {},
     "output_type": "execute_result"
    }
   ],
   "execution_count": 147
  },
  {
   "metadata": {
    "ExecuteTime": {
     "end_time": "2024-06-20T12:08:35.202567Z",
     "start_time": "2024-06-20T12:08:35.195106Z"
    }
   },
   "cell_type": "code",
   "source": "df_fixture_group_ro16",
   "id": "267a1f68d8616806",
   "outputs": [
    {
     "data": {
      "text/plain": [
       "                 home     score               away      Tournament\n",
       "36  Runner-up Group A  Match 38  Runner-up Group B  UEFA_Euro_2024\n",
       "37     Winner Group A  Match 37  Runner-up Group C  UEFA_Euro_2024\n",
       "38     Winner Group C  Match 40    3rd Group D/E/F  UEFA_Euro_2024\n",
       "39     Winner Group B  Match 39  3rd Group A/D/E/F  UEFA_Euro_2024\n",
       "40  Runner-up Group D  Match 42  Runner-up Group E  UEFA_Euro_2024\n",
       "41     Winner Group F  Match 41    3rd Group A/B/C  UEFA_Euro_2024\n",
       "42     Winner Group E  Match 43  3rd Group A/B/C/D  UEFA_Euro_2024\n",
       "43     Winner Group D  Match 44  Runner-up Group F  UEFA_Euro_2024"
      ],
      "text/html": [
       "<div>\n",
       "<style scoped>\n",
       "    .dataframe tbody tr th:only-of-type {\n",
       "        vertical-align: middle;\n",
       "    }\n",
       "\n",
       "    .dataframe tbody tr th {\n",
       "        vertical-align: top;\n",
       "    }\n",
       "\n",
       "    .dataframe thead th {\n",
       "        text-align: right;\n",
       "    }\n",
       "</style>\n",
       "<table border=\"1\" class=\"dataframe\">\n",
       "  <thead>\n",
       "    <tr style=\"text-align: right;\">\n",
       "      <th></th>\n",
       "      <th>home</th>\n",
       "      <th>score</th>\n",
       "      <th>away</th>\n",
       "      <th>Tournament</th>\n",
       "    </tr>\n",
       "  </thead>\n",
       "  <tbody>\n",
       "    <tr>\n",
       "      <th>36</th>\n",
       "      <td>Runner-up Group A</td>\n",
       "      <td>Match 38</td>\n",
       "      <td>Runner-up Group B</td>\n",
       "      <td>UEFA_Euro_2024</td>\n",
       "    </tr>\n",
       "    <tr>\n",
       "      <th>37</th>\n",
       "      <td>Winner Group A</td>\n",
       "      <td>Match 37</td>\n",
       "      <td>Runner-up Group C</td>\n",
       "      <td>UEFA_Euro_2024</td>\n",
       "    </tr>\n",
       "    <tr>\n",
       "      <th>38</th>\n",
       "      <td>Winner Group C</td>\n",
       "      <td>Match 40</td>\n",
       "      <td>3rd Group D/E/F</td>\n",
       "      <td>UEFA_Euro_2024</td>\n",
       "    </tr>\n",
       "    <tr>\n",
       "      <th>39</th>\n",
       "      <td>Winner Group B</td>\n",
       "      <td>Match 39</td>\n",
       "      <td>3rd Group A/D/E/F</td>\n",
       "      <td>UEFA_Euro_2024</td>\n",
       "    </tr>\n",
       "    <tr>\n",
       "      <th>40</th>\n",
       "      <td>Runner-up Group D</td>\n",
       "      <td>Match 42</td>\n",
       "      <td>Runner-up Group E</td>\n",
       "      <td>UEFA_Euro_2024</td>\n",
       "    </tr>\n",
       "    <tr>\n",
       "      <th>41</th>\n",
       "      <td>Winner Group F</td>\n",
       "      <td>Match 41</td>\n",
       "      <td>3rd Group A/B/C</td>\n",
       "      <td>UEFA_Euro_2024</td>\n",
       "    </tr>\n",
       "    <tr>\n",
       "      <th>42</th>\n",
       "      <td>Winner Group E</td>\n",
       "      <td>Match 43</td>\n",
       "      <td>3rd Group A/B/C/D</td>\n",
       "      <td>UEFA_Euro_2024</td>\n",
       "    </tr>\n",
       "    <tr>\n",
       "      <th>43</th>\n",
       "      <td>Winner Group D</td>\n",
       "      <td>Match 44</td>\n",
       "      <td>Runner-up Group F</td>\n",
       "      <td>UEFA_Euro_2024</td>\n",
       "    </tr>\n",
       "  </tbody>\n",
       "</table>\n",
       "</div>"
      ]
     },
     "execution_count": 148,
     "metadata": {},
     "output_type": "execute_result"
    }
   ],
   "execution_count": 148
  },
  {
   "metadata": {
    "ExecuteTime": {
     "end_time": "2024-06-20T12:08:37.119900Z",
     "start_time": "2024-06-20T12:08:37.108516Z"
    }
   },
   "cell_type": "code",
   "source": [
    "for group in dict_table:\n",
    "    group_winner = dict_table[group].loc[0, 'Team']\n",
    "    runners_up = dict_table[group].loc[1, 'Team']\n",
    "    df_fixture_group_ro16.replace({f'Winner {group}':group_winner,\n",
    "                                 f'Runner-up {group}':runners_up}, inplace=True)\n",
    "\n",
    "df_fixture_group_ro16"
   ],
   "id": "5caf2df3694a76c6",
   "outputs": [
    {
     "data": {
      "text/plain": [
       "           home     score               away      Tournament\n",
       "36  Switzerland  Match 38              Italy  UEFA_Euro_2024\n",
       "37      Germany  Match 37            Denmark  UEFA_Euro_2024\n",
       "38      England  Match 40    3rd Group D/E/F  UEFA_Euro_2024\n",
       "39        Spain  Match 39  3rd Group A/D/E/F  UEFA_Euro_2024\n",
       "40  Netherlands  Match 42            Romania  UEFA_Euro_2024\n",
       "41       Turkey  Match 41    3rd Group A/B/C  UEFA_Euro_2024\n",
       "42      Belgium  Match 43  3rd Group A/B/C/D  UEFA_Euro_2024\n",
       "43       France  Match 44           Portugal  UEFA_Euro_2024"
      ],
      "text/html": [
       "<div>\n",
       "<style scoped>\n",
       "    .dataframe tbody tr th:only-of-type {\n",
       "        vertical-align: middle;\n",
       "    }\n",
       "\n",
       "    .dataframe tbody tr th {\n",
       "        vertical-align: top;\n",
       "    }\n",
       "\n",
       "    .dataframe thead th {\n",
       "        text-align: right;\n",
       "    }\n",
       "</style>\n",
       "<table border=\"1\" class=\"dataframe\">\n",
       "  <thead>\n",
       "    <tr style=\"text-align: right;\">\n",
       "      <th></th>\n",
       "      <th>home</th>\n",
       "      <th>score</th>\n",
       "      <th>away</th>\n",
       "      <th>Tournament</th>\n",
       "    </tr>\n",
       "  </thead>\n",
       "  <tbody>\n",
       "    <tr>\n",
       "      <th>36</th>\n",
       "      <td>Switzerland</td>\n",
       "      <td>Match 38</td>\n",
       "      <td>Italy</td>\n",
       "      <td>UEFA_Euro_2024</td>\n",
       "    </tr>\n",
       "    <tr>\n",
       "      <th>37</th>\n",
       "      <td>Germany</td>\n",
       "      <td>Match 37</td>\n",
       "      <td>Denmark</td>\n",
       "      <td>UEFA_Euro_2024</td>\n",
       "    </tr>\n",
       "    <tr>\n",
       "      <th>38</th>\n",
       "      <td>England</td>\n",
       "      <td>Match 40</td>\n",
       "      <td>3rd Group D/E/F</td>\n",
       "      <td>UEFA_Euro_2024</td>\n",
       "    </tr>\n",
       "    <tr>\n",
       "      <th>39</th>\n",
       "      <td>Spain</td>\n",
       "      <td>Match 39</td>\n",
       "      <td>3rd Group A/D/E/F</td>\n",
       "      <td>UEFA_Euro_2024</td>\n",
       "    </tr>\n",
       "    <tr>\n",
       "      <th>40</th>\n",
       "      <td>Netherlands</td>\n",
       "      <td>Match 42</td>\n",
       "      <td>Romania</td>\n",
       "      <td>UEFA_Euro_2024</td>\n",
       "    </tr>\n",
       "    <tr>\n",
       "      <th>41</th>\n",
       "      <td>Turkey</td>\n",
       "      <td>Match 41</td>\n",
       "      <td>3rd Group A/B/C</td>\n",
       "      <td>UEFA_Euro_2024</td>\n",
       "    </tr>\n",
       "    <tr>\n",
       "      <th>42</th>\n",
       "      <td>Belgium</td>\n",
       "      <td>Match 43</td>\n",
       "      <td>3rd Group A/B/C/D</td>\n",
       "      <td>UEFA_Euro_2024</td>\n",
       "    </tr>\n",
       "    <tr>\n",
       "      <th>43</th>\n",
       "      <td>France</td>\n",
       "      <td>Match 44</td>\n",
       "      <td>Portugal</td>\n",
       "      <td>UEFA_Euro_2024</td>\n",
       "    </tr>\n",
       "  </tbody>\n",
       "</table>\n",
       "</div>"
      ]
     },
     "execution_count": 149,
     "metadata": {},
     "output_type": "execute_result"
    }
   ],
   "execution_count": 149
  },
  {
   "metadata": {
    "ExecuteTime": {
     "end_time": "2024-06-20T12:08:38.178392Z",
     "start_time": "2024-06-20T12:08:38.169391Z"
    }
   },
   "cell_type": "code",
   "source": [
    "group_name = []\n",
    "for letter, i in zip(alphabet, range(0,6,1)):\n",
    "    group_name.append(\n",
    "        [f'Group {letter}']\n",
    "    )\n",
    "group_names = pd.DataFrame(group_name)\n",
    "third_team = []\n",
    "for group in dict_table:\n",
    "    third_team.append(\n",
    "        dict_table[group].loc[2, 'Team']\n",
    "    )\n",
    "third_teams = pd.DataFrame(third_team)    \n",
    "third_team_pts = []\n",
    "for group in dict_table:\n",
    "    third_team_pts.append(\n",
    "        dict_table[group].loc[2, 'Pts']\n",
    "    )\n",
    "third_team_pt = pd.DataFrame(third_team_pts)   \n",
    "third_team_tab = group_names.join(third_teams, how='left', lsuffix='_left', rsuffix='_right')\n",
    "third_team_table = third_team_tab.join(third_team_pt, how='right', lsuffix='_left', rsuffix='_right')\n",
    "third_team_table.columns = ['Groups', 'Teams', 'Pts']\n",
    "third_team_table = third_team_table.sort_values(['Pts'], ascending=[False]).reset_index(drop=True)\n",
    "\n",
    "third_team_table = third_team_table.drop(4)\n",
    "third_team_table = third_team_table.drop(5)\n",
    "third_team_table = third_team_table.sort_values(['Groups'], ascending=[True]).reset_index(drop=True)\n",
    "  "
   ],
   "id": "8857cac475984e2b",
   "outputs": [],
   "execution_count": 150
  },
  {
   "metadata": {
    "ExecuteTime": {
     "end_time": "2024-06-20T12:08:40.402599Z",
     "start_time": "2024-06-20T12:08:40.395289Z"
    }
   },
   "cell_type": "code",
   "source": [
    "\n",
    "third_team_table"
   ],
   "id": "225c2c37b9a35558",
   "outputs": [
    {
     "data": {
      "text/plain": [
       "    Groups           Teams  Pts\n",
       "0  Group A        Scotland  5.0\n",
       "1  Group C        Slovenia  5.0\n",
       "2  Group E        Slovakia  7.0\n",
       "3  Group F  Czech Republic  5.0"
      ],
      "text/html": [
       "<div>\n",
       "<style scoped>\n",
       "    .dataframe tbody tr th:only-of-type {\n",
       "        vertical-align: middle;\n",
       "    }\n",
       "\n",
       "    .dataframe tbody tr th {\n",
       "        vertical-align: top;\n",
       "    }\n",
       "\n",
       "    .dataframe thead th {\n",
       "        text-align: right;\n",
       "    }\n",
       "</style>\n",
       "<table border=\"1\" class=\"dataframe\">\n",
       "  <thead>\n",
       "    <tr style=\"text-align: right;\">\n",
       "      <th></th>\n",
       "      <th>Groups</th>\n",
       "      <th>Teams</th>\n",
       "      <th>Pts</th>\n",
       "    </tr>\n",
       "  </thead>\n",
       "  <tbody>\n",
       "    <tr>\n",
       "      <th>0</th>\n",
       "      <td>Group A</td>\n",
       "      <td>Scotland</td>\n",
       "      <td>5.0</td>\n",
       "    </tr>\n",
       "    <tr>\n",
       "      <th>1</th>\n",
       "      <td>Group C</td>\n",
       "      <td>Slovenia</td>\n",
       "      <td>5.0</td>\n",
       "    </tr>\n",
       "    <tr>\n",
       "      <th>2</th>\n",
       "      <td>Group E</td>\n",
       "      <td>Slovakia</td>\n",
       "      <td>7.0</td>\n",
       "    </tr>\n",
       "    <tr>\n",
       "      <th>3</th>\n",
       "      <td>Group F</td>\n",
       "      <td>Czech Republic</td>\n",
       "      <td>5.0</td>\n",
       "    </tr>\n",
       "  </tbody>\n",
       "</table>\n",
       "</div>"
      ]
     },
     "execution_count": 151,
     "metadata": {},
     "output_type": "execute_result"
    }
   ],
   "execution_count": 151
  },
  {
   "metadata": {
    "ExecuteTime": {
     "end_time": "2024-06-20T12:08:45.519429Z",
     "start_time": "2024-06-20T12:08:45.494085Z"
    }
   },
   "cell_type": "code",
   "source": [
    "if third_team_table.loc[0, 'Groups'] == 'Group A' and third_team_table.loc[1, 'Groups'] == 'Group B' and third_team_table.loc[2, 'Groups'] == 'Group C' and third_team_table.loc[3, 'Groups'] == 'Group D':\n",
    "    third_group_one = third_team_table.loc[3, 'Teams']\n",
    "    third_group_two = third_team_table.loc[0, 'Teams']\n",
    "    third_group_three = third_team_table.loc[2, 'Teams']\n",
    "    third_group_four = third_team_table.loc[1, 'Teams']\n",
    "elif third_team_table.loc[0, 'Groups'] == 'Group A' and third_team_table.loc[1, 'Groups'] == 'Group B' and third_team_table.loc[2, 'Groups'] == 'Group C' and third_team_table.loc[3, 'Groups'] == 'Group E':\n",
    "    third_group_one = third_team_table.loc[3, 'Teams']\n",
    "    third_group_two = third_team_table.loc[0, 'Teams']\n",
    "    third_group_three = third_team_table.loc[2, 'Teams']\n",
    "    third_group_four = third_team_table.loc[1, 'Teams']\n",
    "elif third_team_table.loc[0, 'Groups'] == 'Group A' and third_team_table.loc[1, 'Groups'] == 'Group B' and third_team_table.loc[2, 'Groups'] == 'Group C' and third_team_table.loc[3, 'Groups'] == 'Group F':\n",
    "    third_group_one = third_team_table.loc[3, 'Teams']\n",
    "    third_group_two = third_team_table.loc[0, 'Teams']\n",
    "    third_group_three = third_team_table.loc[2, 'Teams']\n",
    "    third_group_four = third_team_table.loc[1, 'Teams']\n",
    "elif third_team_table.loc[0, 'Groups'] == 'Group A' and third_team_table.loc[1, 'Groups'] == 'Group B' and third_team_table.loc[2, 'Groups'] == 'Group D' and third_team_table.loc[3, 'Groups'] == 'Group E':\n",
    "    third_group_one = third_team_table.loc[3, 'Teams']\n",
    "    third_group_two = third_team_table.loc[2, 'Teams']\n",
    "    third_group_three = third_team_table.loc[1, 'Teams']\n",
    "    third_group_four = third_team_table.loc[0, 'Teams']\n",
    "elif third_team_table.loc[0, 'Groups'] == 'Group A' and third_team_table.loc[1, 'Groups'] == 'Group B' and third_team_table.loc[2, 'Groups'] == 'Group D' and third_team_table.loc[3, 'Groups'] == 'Group F':\n",
    "    third_group_one = third_team_table.loc[3, 'Teams']\n",
    "    third_group_two = third_team_table.loc[2, 'Teams']\n",
    "    third_group_three = third_team_table.loc[1, 'Teams']\n",
    "    third_group_four = third_team_table.loc[0, 'Teams']\n",
    "elif third_team_table.loc[0, 'Groups'] == 'Group A' and third_team_table.loc[1, 'Groups'] == 'Group C' and third_team_table.loc[2, 'Groups'] == 'Group D' and third_team_table.loc[3, 'Groups'] == 'Group E':\n",
    "    third_group_one = third_team_table.loc[2, 'Teams']\n",
    "    third_group_two = third_team_table.loc[3, 'Teams']\n",
    "    third_group_three = third_team_table.loc[0, 'Teams']\n",
    "    third_group_four = third_team_table.loc[1, 'Teams']\n",
    "elif third_team_table.loc[0, 'Groups'] == 'Group A' and third_team_table.loc[1, 'Groups'] == 'Group C' and third_team_table.loc[2, 'Groups'] == 'Group D' and third_team_table.loc[3, 'Groups'] == 'Group F':\n",
    "    third_group_one = third_team_table.loc[2, 'Teams']\n",
    "    third_group_two = third_team_table.loc[3, 'Teams']\n",
    "    third_group_three = third_team_table.loc[0, 'Teams']\n",
    "    third_group_four = third_team_table.loc[1, 'Teams']\n",
    "elif third_team_table.loc[0, 'Groups'] == 'Group A' and third_team_table.loc[1, 'Groups'] == 'Group C' and third_team_table.loc[2, 'Groups'] == 'Group E' and third_team_table.loc[3, 'Groups'] == 'Group F':\n",
    "    third_group_one = third_team_table.loc[3, 'Teams']\n",
    "    third_group_two = third_team_table.loc[2, 'Teams']\n",
    "    third_group_three = third_team_table.loc[0, 'Teams']\n",
    "    third_group_four = third_team_table.loc[1, 'Teams']\n",
    "elif third_team_table.loc[0, 'Groups'] == 'Group A' and third_team_table.loc[1, 'Groups'] == 'Group D' and third_team_table.loc[2, 'Groups'] == 'Group E' and third_team_table.loc[3, 'Groups'] == 'Group F':\n",
    "    third_group_one = third_team_table.loc[3, 'Teams']\n",
    "    third_group_two = third_team_table.loc[2, 'Teams']\n",
    "    third_group_three = third_team_table.loc[0, 'Teams']\n",
    "    third_group_four = third_team_table.loc[1, 'Teams']\n",
    "elif third_team_table.loc[0, 'Groups'] == 'Group B' and third_team_table.loc[1, 'Groups'] == 'Group C' and third_team_table.loc[2, 'Groups'] == 'Group D' and third_team_table.loc[3, 'Groups'] == 'Group E':\n",
    "    third_group_one = third_team_table.loc[2, 'Teams']\n",
    "    third_group_two = third_team_table.loc[3, 'Teams']\n",
    "    third_group_three = third_team_table.loc[1, 'Teams']\n",
    "    third_group_four = third_team_table.loc[0, 'Teams']\n",
    "elif third_team_table.loc[0, 'Groups'] == 'Group B' and third_team_table.loc[1, 'Groups'] == 'Group C' and third_team_table.loc[2, 'Groups'] == 'Group D' and third_team_table.loc[3, 'Groups'] == 'Group F':\n",
    "    third_group_one = third_team_table.loc[2, 'Teams']\n",
    "    third_group_two = third_team_table.loc[3, 'Teams']\n",
    "    third_group_three = third_team_table.loc[0, 'Teams']\n",
    "    third_group_four = third_team_table.loc[1, 'Teams']\n",
    "elif third_team_table.loc[0, 'Groups'] == 'Group B' and third_team_table.loc[1, 'Groups'] == 'Group C' and third_team_table.loc[2, 'Groups'] == 'Group E' and third_team_table.loc[3, 'Groups'] == 'Group F':\n",
    "    third_group_one = third_team_table.loc[2, 'Teams']\n",
    "    third_group_two = third_team_table.loc[3, 'Teams']\n",
    "    third_group_three = third_team_table.loc[0, 'Teams']\n",
    "    third_group_four = third_team_table.loc[1, 'Teams']\n",
    "elif third_team_table.loc[0, 'Groups'] == 'Group B' and third_team_table.loc[1, 'Groups'] == 'Group D' and third_team_table.loc[2, 'Groups'] == 'Group E' and third_team_table.loc[3, 'Groups'] == 'Group F':\n",
    "    third_group_one = third_team_table.loc[2, 'Teams']\n",
    "    third_group_two = third_team_table.loc[3, 'Teams']\n",
    "    third_group_three = third_team_table.loc[0, 'Teams']\n",
    "    third_group_four = third_team_table.loc[1, 'Teams']\n",
    "elif third_team_table.loc[0, 'Groups'] == 'Group C' and third_team_table.loc[1, 'Groups'] == 'Group D' and third_team_table.loc[2, 'Groups'] == 'Group E' and third_team_table.loc[3, 'Groups'] == 'Group F':\n",
    "    third_group_one = third_team_table.loc[2, 'Teams']\n",
    "    third_group_two = third_team_table.loc[3, 'Teams']\n",
    "    third_group_three = third_team_table.loc[0, 'Teams']\n",
    "    third_group_four = third_team_table.loc[1, 'Teams']\n",
    "df_fixture_group_ro16 = df_fixture_group_ro16.replace({f'3rd Group D/E/F':third_group_one, f'3rd Group A/D/E/F':third_group_two, f'3rd Group A/B/C':third_group_three, f'3rd Group A/B/C/D':third_group_four})\n",
    "\n",
    "df_fixture_group_ro16"
   ],
   "id": "68beba67e451d21d",
   "outputs": [
    {
     "data": {
      "text/plain": [
       "           home     score            away      Tournament\n",
       "36  Switzerland  Match 38           Italy  UEFA_Euro_2024\n",
       "37      Germany  Match 37         Denmark  UEFA_Euro_2024\n",
       "38      England  Match 40  Czech Republic  UEFA_Euro_2024\n",
       "39        Spain  Match 39        Slovakia  UEFA_Euro_2024\n",
       "40  Netherlands  Match 42         Romania  UEFA_Euro_2024\n",
       "41       Turkey  Match 41        Scotland  UEFA_Euro_2024\n",
       "42      Belgium  Match 43        Slovenia  UEFA_Euro_2024\n",
       "43       France  Match 44        Portugal  UEFA_Euro_2024"
      ],
      "text/html": [
       "<div>\n",
       "<style scoped>\n",
       "    .dataframe tbody tr th:only-of-type {\n",
       "        vertical-align: middle;\n",
       "    }\n",
       "\n",
       "    .dataframe tbody tr th {\n",
       "        vertical-align: top;\n",
       "    }\n",
       "\n",
       "    .dataframe thead th {\n",
       "        text-align: right;\n",
       "    }\n",
       "</style>\n",
       "<table border=\"1\" class=\"dataframe\">\n",
       "  <thead>\n",
       "    <tr style=\"text-align: right;\">\n",
       "      <th></th>\n",
       "      <th>home</th>\n",
       "      <th>score</th>\n",
       "      <th>away</th>\n",
       "      <th>Tournament</th>\n",
       "    </tr>\n",
       "  </thead>\n",
       "  <tbody>\n",
       "    <tr>\n",
       "      <th>36</th>\n",
       "      <td>Switzerland</td>\n",
       "      <td>Match 38</td>\n",
       "      <td>Italy</td>\n",
       "      <td>UEFA_Euro_2024</td>\n",
       "    </tr>\n",
       "    <tr>\n",
       "      <th>37</th>\n",
       "      <td>Germany</td>\n",
       "      <td>Match 37</td>\n",
       "      <td>Denmark</td>\n",
       "      <td>UEFA_Euro_2024</td>\n",
       "    </tr>\n",
       "    <tr>\n",
       "      <th>38</th>\n",
       "      <td>England</td>\n",
       "      <td>Match 40</td>\n",
       "      <td>Czech Republic</td>\n",
       "      <td>UEFA_Euro_2024</td>\n",
       "    </tr>\n",
       "    <tr>\n",
       "      <th>39</th>\n",
       "      <td>Spain</td>\n",
       "      <td>Match 39</td>\n",
       "      <td>Slovakia</td>\n",
       "      <td>UEFA_Euro_2024</td>\n",
       "    </tr>\n",
       "    <tr>\n",
       "      <th>40</th>\n",
       "      <td>Netherlands</td>\n",
       "      <td>Match 42</td>\n",
       "      <td>Romania</td>\n",
       "      <td>UEFA_Euro_2024</td>\n",
       "    </tr>\n",
       "    <tr>\n",
       "      <th>41</th>\n",
       "      <td>Turkey</td>\n",
       "      <td>Match 41</td>\n",
       "      <td>Scotland</td>\n",
       "      <td>UEFA_Euro_2024</td>\n",
       "    </tr>\n",
       "    <tr>\n",
       "      <th>42</th>\n",
       "      <td>Belgium</td>\n",
       "      <td>Match 43</td>\n",
       "      <td>Slovenia</td>\n",
       "      <td>UEFA_Euro_2024</td>\n",
       "    </tr>\n",
       "    <tr>\n",
       "      <th>43</th>\n",
       "      <td>France</td>\n",
       "      <td>Match 44</td>\n",
       "      <td>Portugal</td>\n",
       "      <td>UEFA_Euro_2024</td>\n",
       "    </tr>\n",
       "  </tbody>\n",
       "</table>\n",
       "</div>"
      ]
     },
     "execution_count": 152,
     "metadata": {},
     "output_type": "execute_result"
    }
   ],
   "execution_count": 152
  },
  {
   "metadata": {
    "ExecuteTime": {
     "end_time": "2024-06-20T12:08:48.569286Z",
     "start_time": "2024-06-20T12:08:48.565138Z"
    }
   },
   "cell_type": "code",
   "source": "df_fixture_group_ro16 ['winner'] = '?'",
   "id": "cc813bc59e19e0f8",
   "outputs": [],
   "execution_count": 153
  },
  {
   "metadata": {
    "ExecuteTime": {
     "end_time": "2024-06-20T12:08:50.615111Z",
     "start_time": "2024-06-20T12:08:50.610817Z"
    }
   },
   "cell_type": "code",
   "source": [
    "def get_winner(df_fixture_updated):\n",
    "    for index, row in df_fixture_updated.iterrows():\n",
    "        home, away = row['home'], row['away']\n",
    "        points_home, points_away = predict_points(home, away)\n",
    "        if points_home > points_away:\n",
    "            winner = home\n",
    "        else:\n",
    "            winner = away\n",
    "        df_fixture_updated.loc[index, 'winner'] = winner \n",
    "    return df_fixture_updated"
   ],
   "id": "f7f3849b9d8389c7",
   "outputs": [],
   "execution_count": 154
  },
  {
   "metadata": {
    "ExecuteTime": {
     "end_time": "2024-06-20T12:08:53.291041Z",
     "start_time": "2024-06-20T12:08:53.130165Z"
    }
   },
   "cell_type": "code",
   "source": "get_winner(df_fixture_group_ro16)",
   "id": "4b9abf7ea38d285e",
   "outputs": [
    {
     "data": {
      "text/plain": [
       "           home     score            away      Tournament       winner\n",
       "36  Switzerland  Match 38           Italy  UEFA_Euro_2024        Italy\n",
       "37      Germany  Match 37         Denmark  UEFA_Euro_2024      Denmark\n",
       "38      England  Match 40  Czech Republic  UEFA_Euro_2024      England\n",
       "39        Spain  Match 39        Slovakia  UEFA_Euro_2024        Spain\n",
       "40  Netherlands  Match 42         Romania  UEFA_Euro_2024  Netherlands\n",
       "41       Turkey  Match 41        Scotland  UEFA_Euro_2024       Turkey\n",
       "42      Belgium  Match 43        Slovenia  UEFA_Euro_2024      Belgium\n",
       "43       France  Match 44        Portugal  UEFA_Euro_2024     Portugal"
      ],
      "text/html": [
       "<div>\n",
       "<style scoped>\n",
       "    .dataframe tbody tr th:only-of-type {\n",
       "        vertical-align: middle;\n",
       "    }\n",
       "\n",
       "    .dataframe tbody tr th {\n",
       "        vertical-align: top;\n",
       "    }\n",
       "\n",
       "    .dataframe thead th {\n",
       "        text-align: right;\n",
       "    }\n",
       "</style>\n",
       "<table border=\"1\" class=\"dataframe\">\n",
       "  <thead>\n",
       "    <tr style=\"text-align: right;\">\n",
       "      <th></th>\n",
       "      <th>home</th>\n",
       "      <th>score</th>\n",
       "      <th>away</th>\n",
       "      <th>Tournament</th>\n",
       "      <th>winner</th>\n",
       "    </tr>\n",
       "  </thead>\n",
       "  <tbody>\n",
       "    <tr>\n",
       "      <th>36</th>\n",
       "      <td>Switzerland</td>\n",
       "      <td>Match 38</td>\n",
       "      <td>Italy</td>\n",
       "      <td>UEFA_Euro_2024</td>\n",
       "      <td>Italy</td>\n",
       "    </tr>\n",
       "    <tr>\n",
       "      <th>37</th>\n",
       "      <td>Germany</td>\n",
       "      <td>Match 37</td>\n",
       "      <td>Denmark</td>\n",
       "      <td>UEFA_Euro_2024</td>\n",
       "      <td>Denmark</td>\n",
       "    </tr>\n",
       "    <tr>\n",
       "      <th>38</th>\n",
       "      <td>England</td>\n",
       "      <td>Match 40</td>\n",
       "      <td>Czech Republic</td>\n",
       "      <td>UEFA_Euro_2024</td>\n",
       "      <td>England</td>\n",
       "    </tr>\n",
       "    <tr>\n",
       "      <th>39</th>\n",
       "      <td>Spain</td>\n",
       "      <td>Match 39</td>\n",
       "      <td>Slovakia</td>\n",
       "      <td>UEFA_Euro_2024</td>\n",
       "      <td>Spain</td>\n",
       "    </tr>\n",
       "    <tr>\n",
       "      <th>40</th>\n",
       "      <td>Netherlands</td>\n",
       "      <td>Match 42</td>\n",
       "      <td>Romania</td>\n",
       "      <td>UEFA_Euro_2024</td>\n",
       "      <td>Netherlands</td>\n",
       "    </tr>\n",
       "    <tr>\n",
       "      <th>41</th>\n",
       "      <td>Turkey</td>\n",
       "      <td>Match 41</td>\n",
       "      <td>Scotland</td>\n",
       "      <td>UEFA_Euro_2024</td>\n",
       "      <td>Turkey</td>\n",
       "    </tr>\n",
       "    <tr>\n",
       "      <th>42</th>\n",
       "      <td>Belgium</td>\n",
       "      <td>Match 43</td>\n",
       "      <td>Slovenia</td>\n",
       "      <td>UEFA_Euro_2024</td>\n",
       "      <td>Belgium</td>\n",
       "    </tr>\n",
       "    <tr>\n",
       "      <th>43</th>\n",
       "      <td>France</td>\n",
       "      <td>Match 44</td>\n",
       "      <td>Portugal</td>\n",
       "      <td>UEFA_Euro_2024</td>\n",
       "      <td>Portugal</td>\n",
       "    </tr>\n",
       "  </tbody>\n",
       "</table>\n",
       "</div>"
      ]
     },
     "execution_count": 155,
     "metadata": {},
     "output_type": "execute_result"
    }
   ],
   "execution_count": 155
  },
  {
   "metadata": {
    "ExecuteTime": {
     "end_time": "2024-06-20T12:09:01.996947Z",
     "start_time": "2024-06-20T12:09:01.992704Z"
    }
   },
   "cell_type": "code",
   "source": [
    "def update_table(df_fixture_round_1, df_fixture_round_2):\n",
    "    for index, row in df_fixture_round_1.iterrows():\n",
    "        winner = df_fixture_round_1.loc[index, 'winner']\n",
    "        match = df_fixture_round_1.loc[index, 'score']\n",
    "        df_fixture_round_2.replace({f'Winner {match}': winner}, inplace=True)\n",
    "    df_fixture_round_2 ['winner'] = '?'\n",
    "    return df_fixture_round_2"
   ],
   "id": "7591c48c37dba778",
   "outputs": [],
   "execution_count": 156
  },
  {
   "metadata": {
    "ExecuteTime": {
     "end_time": "2024-06-20T12:09:03.656055Z",
     "start_time": "2024-06-20T12:09:03.645307Z"
    }
   },
   "cell_type": "code",
   "source": "update_table(df_fixture_group_ro16, df_fixture_group_quarters)",
   "id": "bc38ac921075590c",
   "outputs": [
    {
     "data": {
      "text/plain": [
       "       home     score         away      Tournament winner\n",
       "44    Spain  Match 45      Denmark  UEFA_Euro_2024      ?\n",
       "45   Turkey  Match 46  Netherlands  UEFA_Euro_2024      ?\n",
       "46  England  Match 48        Italy  UEFA_Euro_2024      ?\n",
       "47  Belgium  Match 47     Portugal  UEFA_Euro_2024      ?"
      ],
      "text/html": [
       "<div>\n",
       "<style scoped>\n",
       "    .dataframe tbody tr th:only-of-type {\n",
       "        vertical-align: middle;\n",
       "    }\n",
       "\n",
       "    .dataframe tbody tr th {\n",
       "        vertical-align: top;\n",
       "    }\n",
       "\n",
       "    .dataframe thead th {\n",
       "        text-align: right;\n",
       "    }\n",
       "</style>\n",
       "<table border=\"1\" class=\"dataframe\">\n",
       "  <thead>\n",
       "    <tr style=\"text-align: right;\">\n",
       "      <th></th>\n",
       "      <th>home</th>\n",
       "      <th>score</th>\n",
       "      <th>away</th>\n",
       "      <th>Tournament</th>\n",
       "      <th>winner</th>\n",
       "    </tr>\n",
       "  </thead>\n",
       "  <tbody>\n",
       "    <tr>\n",
       "      <th>44</th>\n",
       "      <td>Spain</td>\n",
       "      <td>Match 45</td>\n",
       "      <td>Denmark</td>\n",
       "      <td>UEFA_Euro_2024</td>\n",
       "      <td>?</td>\n",
       "    </tr>\n",
       "    <tr>\n",
       "      <th>45</th>\n",
       "      <td>Turkey</td>\n",
       "      <td>Match 46</td>\n",
       "      <td>Netherlands</td>\n",
       "      <td>UEFA_Euro_2024</td>\n",
       "      <td>?</td>\n",
       "    </tr>\n",
       "    <tr>\n",
       "      <th>46</th>\n",
       "      <td>England</td>\n",
       "      <td>Match 48</td>\n",
       "      <td>Italy</td>\n",
       "      <td>UEFA_Euro_2024</td>\n",
       "      <td>?</td>\n",
       "    </tr>\n",
       "    <tr>\n",
       "      <th>47</th>\n",
       "      <td>Belgium</td>\n",
       "      <td>Match 47</td>\n",
       "      <td>Portugal</td>\n",
       "      <td>UEFA_Euro_2024</td>\n",
       "      <td>?</td>\n",
       "    </tr>\n",
       "  </tbody>\n",
       "</table>\n",
       "</div>"
      ]
     },
     "execution_count": 157,
     "metadata": {},
     "output_type": "execute_result"
    }
   ],
   "execution_count": 157
  },
  {
   "metadata": {
    "ExecuteTime": {
     "end_time": "2024-06-20T12:10:04.512089Z",
     "start_time": "2024-06-20T12:10:04.423633Z"
    }
   },
   "cell_type": "code",
   "source": "get_winner(df_fixture_group_quarters)",
   "id": "e4a15aa9306e61d6",
   "outputs": [
    {
     "data": {
      "text/plain": [
       "       home     score         away      Tournament       winner\n",
       "44    Spain  Match 45      Denmark  UEFA_Euro_2024        Spain\n",
       "45   Turkey  Match 46  Netherlands  UEFA_Euro_2024  Netherlands\n",
       "46  England  Match 48        Italy  UEFA_Euro_2024      England\n",
       "47  Belgium  Match 47     Portugal  UEFA_Euro_2024     Portugal"
      ],
      "text/html": [
       "<div>\n",
       "<style scoped>\n",
       "    .dataframe tbody tr th:only-of-type {\n",
       "        vertical-align: middle;\n",
       "    }\n",
       "\n",
       "    .dataframe tbody tr th {\n",
       "        vertical-align: top;\n",
       "    }\n",
       "\n",
       "    .dataframe thead th {\n",
       "        text-align: right;\n",
       "    }\n",
       "</style>\n",
       "<table border=\"1\" class=\"dataframe\">\n",
       "  <thead>\n",
       "    <tr style=\"text-align: right;\">\n",
       "      <th></th>\n",
       "      <th>home</th>\n",
       "      <th>score</th>\n",
       "      <th>away</th>\n",
       "      <th>Tournament</th>\n",
       "      <th>winner</th>\n",
       "    </tr>\n",
       "  </thead>\n",
       "  <tbody>\n",
       "    <tr>\n",
       "      <th>44</th>\n",
       "      <td>Spain</td>\n",
       "      <td>Match 45</td>\n",
       "      <td>Denmark</td>\n",
       "      <td>UEFA_Euro_2024</td>\n",
       "      <td>Spain</td>\n",
       "    </tr>\n",
       "    <tr>\n",
       "      <th>45</th>\n",
       "      <td>Turkey</td>\n",
       "      <td>Match 46</td>\n",
       "      <td>Netherlands</td>\n",
       "      <td>UEFA_Euro_2024</td>\n",
       "      <td>Netherlands</td>\n",
       "    </tr>\n",
       "    <tr>\n",
       "      <th>46</th>\n",
       "      <td>England</td>\n",
       "      <td>Match 48</td>\n",
       "      <td>Italy</td>\n",
       "      <td>UEFA_Euro_2024</td>\n",
       "      <td>England</td>\n",
       "    </tr>\n",
       "    <tr>\n",
       "      <th>47</th>\n",
       "      <td>Belgium</td>\n",
       "      <td>Match 47</td>\n",
       "      <td>Portugal</td>\n",
       "      <td>UEFA_Euro_2024</td>\n",
       "      <td>Portugal</td>\n",
       "    </tr>\n",
       "  </tbody>\n",
       "</table>\n",
       "</div>"
      ]
     },
     "execution_count": 158,
     "metadata": {},
     "output_type": "execute_result"
    }
   ],
   "execution_count": 158
  },
  {
   "metadata": {
    "ExecuteTime": {
     "end_time": "2024-06-20T12:10:40.290073Z",
     "start_time": "2024-06-20T12:10:40.279949Z"
    }
   },
   "cell_type": "code",
   "source": "update_table(df_fixture_group_quarters, df_fixture_group_semis)",
   "id": "f29f006f1c9c023c",
   "outputs": [
    {
     "data": {
      "text/plain": [
       "        home     score         away      Tournament winner\n",
       "48     Spain  Match 49  Netherlands  UEFA_Euro_2024      ?\n",
       "49  Portugal  Match 50      England  UEFA_Euro_2024      ?"
      ],
      "text/html": [
       "<div>\n",
       "<style scoped>\n",
       "    .dataframe tbody tr th:only-of-type {\n",
       "        vertical-align: middle;\n",
       "    }\n",
       "\n",
       "    .dataframe tbody tr th {\n",
       "        vertical-align: top;\n",
       "    }\n",
       "\n",
       "    .dataframe thead th {\n",
       "        text-align: right;\n",
       "    }\n",
       "</style>\n",
       "<table border=\"1\" class=\"dataframe\">\n",
       "  <thead>\n",
       "    <tr style=\"text-align: right;\">\n",
       "      <th></th>\n",
       "      <th>home</th>\n",
       "      <th>score</th>\n",
       "      <th>away</th>\n",
       "      <th>Tournament</th>\n",
       "      <th>winner</th>\n",
       "    </tr>\n",
       "  </thead>\n",
       "  <tbody>\n",
       "    <tr>\n",
       "      <th>48</th>\n",
       "      <td>Spain</td>\n",
       "      <td>Match 49</td>\n",
       "      <td>Netherlands</td>\n",
       "      <td>UEFA_Euro_2024</td>\n",
       "      <td>?</td>\n",
       "    </tr>\n",
       "    <tr>\n",
       "      <th>49</th>\n",
       "      <td>Portugal</td>\n",
       "      <td>Match 50</td>\n",
       "      <td>England</td>\n",
       "      <td>UEFA_Euro_2024</td>\n",
       "      <td>?</td>\n",
       "    </tr>\n",
       "  </tbody>\n",
       "</table>\n",
       "</div>"
      ]
     },
     "execution_count": 159,
     "metadata": {},
     "output_type": "execute_result"
    }
   ],
   "execution_count": 159
  },
  {
   "metadata": {
    "ExecuteTime": {
     "end_time": "2024-06-20T12:11:09.374243Z",
     "start_time": "2024-06-20T12:11:09.320209Z"
    }
   },
   "cell_type": "code",
   "source": "get_winner(df_fixture_group_semis)",
   "id": "a95729c7173729c4",
   "outputs": [
    {
     "data": {
      "text/plain": [
       "        home     score         away      Tournament    winner\n",
       "48     Spain  Match 49  Netherlands  UEFA_Euro_2024     Spain\n",
       "49  Portugal  Match 50      England  UEFA_Euro_2024  Portugal"
      ],
      "text/html": [
       "<div>\n",
       "<style scoped>\n",
       "    .dataframe tbody tr th:only-of-type {\n",
       "        vertical-align: middle;\n",
       "    }\n",
       "\n",
       "    .dataframe tbody tr th {\n",
       "        vertical-align: top;\n",
       "    }\n",
       "\n",
       "    .dataframe thead th {\n",
       "        text-align: right;\n",
       "    }\n",
       "</style>\n",
       "<table border=\"1\" class=\"dataframe\">\n",
       "  <thead>\n",
       "    <tr style=\"text-align: right;\">\n",
       "      <th></th>\n",
       "      <th>home</th>\n",
       "      <th>score</th>\n",
       "      <th>away</th>\n",
       "      <th>Tournament</th>\n",
       "      <th>winner</th>\n",
       "    </tr>\n",
       "  </thead>\n",
       "  <tbody>\n",
       "    <tr>\n",
       "      <th>48</th>\n",
       "      <td>Spain</td>\n",
       "      <td>Match 49</td>\n",
       "      <td>Netherlands</td>\n",
       "      <td>UEFA_Euro_2024</td>\n",
       "      <td>Spain</td>\n",
       "    </tr>\n",
       "    <tr>\n",
       "      <th>49</th>\n",
       "      <td>Portugal</td>\n",
       "      <td>Match 50</td>\n",
       "      <td>England</td>\n",
       "      <td>UEFA_Euro_2024</td>\n",
       "      <td>Portugal</td>\n",
       "    </tr>\n",
       "  </tbody>\n",
       "</table>\n",
       "</div>"
      ]
     },
     "execution_count": 160,
     "metadata": {},
     "output_type": "execute_result"
    }
   ],
   "execution_count": 160
  },
  {
   "metadata": {
    "ExecuteTime": {
     "end_time": "2024-06-20T12:11:48.480471Z",
     "start_time": "2024-06-20T12:11:48.470526Z"
    }
   },
   "cell_type": "code",
   "source": "update_table(df_fixture_group_semis, df_fixture_group_final)\n",
   "id": "13a21723ed7007f7",
   "outputs": [
    {
     "data": {
      "text/plain": [
       "     home     score      away      Tournament winner\n",
       "50  Spain  Match 51  Portugal  UEFA_Euro_2024      ?"
      ],
      "text/html": [
       "<div>\n",
       "<style scoped>\n",
       "    .dataframe tbody tr th:only-of-type {\n",
       "        vertical-align: middle;\n",
       "    }\n",
       "\n",
       "    .dataframe tbody tr th {\n",
       "        vertical-align: top;\n",
       "    }\n",
       "\n",
       "    .dataframe thead th {\n",
       "        text-align: right;\n",
       "    }\n",
       "</style>\n",
       "<table border=\"1\" class=\"dataframe\">\n",
       "  <thead>\n",
       "    <tr style=\"text-align: right;\">\n",
       "      <th></th>\n",
       "      <th>home</th>\n",
       "      <th>score</th>\n",
       "      <th>away</th>\n",
       "      <th>Tournament</th>\n",
       "      <th>winner</th>\n",
       "    </tr>\n",
       "  </thead>\n",
       "  <tbody>\n",
       "    <tr>\n",
       "      <th>50</th>\n",
       "      <td>Spain</td>\n",
       "      <td>Match 51</td>\n",
       "      <td>Portugal</td>\n",
       "      <td>UEFA_Euro_2024</td>\n",
       "      <td>?</td>\n",
       "    </tr>\n",
       "  </tbody>\n",
       "</table>\n",
       "</div>"
      ]
     },
     "execution_count": 161,
     "metadata": {},
     "output_type": "execute_result"
    }
   ],
   "execution_count": 161
  },
  {
   "metadata": {
    "ExecuteTime": {
     "end_time": "2024-06-20T12:12:05.452369Z",
     "start_time": "2024-06-20T12:12:05.423835Z"
    }
   },
   "cell_type": "code",
   "source": "get_winner(df_fixture_group_final)",
   "id": "d0cb185f37e5deb7",
   "outputs": [
    {
     "data": {
      "text/plain": [
       "     home     score      away      Tournament winner\n",
       "50  Spain  Match 51  Portugal  UEFA_Euro_2024  Spain"
      ],
      "text/html": [
       "<div>\n",
       "<style scoped>\n",
       "    .dataframe tbody tr th:only-of-type {\n",
       "        vertical-align: middle;\n",
       "    }\n",
       "\n",
       "    .dataframe tbody tr th {\n",
       "        vertical-align: top;\n",
       "    }\n",
       "\n",
       "    .dataframe thead th {\n",
       "        text-align: right;\n",
       "    }\n",
       "</style>\n",
       "<table border=\"1\" class=\"dataframe\">\n",
       "  <thead>\n",
       "    <tr style=\"text-align: right;\">\n",
       "      <th></th>\n",
       "      <th>home</th>\n",
       "      <th>score</th>\n",
       "      <th>away</th>\n",
       "      <th>Tournament</th>\n",
       "      <th>winner</th>\n",
       "    </tr>\n",
       "  </thead>\n",
       "  <tbody>\n",
       "    <tr>\n",
       "      <th>50</th>\n",
       "      <td>Spain</td>\n",
       "      <td>Match 51</td>\n",
       "      <td>Portugal</td>\n",
       "      <td>UEFA_Euro_2024</td>\n",
       "      <td>Spain</td>\n",
       "    </tr>\n",
       "  </tbody>\n",
       "</table>\n",
       "</div>"
      ]
     },
     "execution_count": 162,
     "metadata": {},
     "output_type": "execute_result"
    }
   ],
   "execution_count": 162
  },
  {
   "metadata": {},
   "cell_type": "code",
   "outputs": [],
   "execution_count": null,
   "source": "",
   "id": "1221d3166fa5ac3d"
  }
 ],
 "metadata": {
  "kernelspec": {
   "display_name": "Python 3",
   "language": "python",
   "name": "python3"
  },
  "language_info": {
   "codemirror_mode": {
    "name": "ipython",
    "version": 2
   },
   "file_extension": ".py",
   "mimetype": "text/x-python",
   "name": "python",
   "nbconvert_exporter": "python",
   "pygments_lexer": "ipython2",
   "version": "2.7.6"
  }
 },
 "nbformat": 4,
 "nbformat_minor": 5
}
