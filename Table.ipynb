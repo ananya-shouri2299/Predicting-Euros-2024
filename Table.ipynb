{
 "cells": [
  {
   "cell_type": "code",
   "id": "initial_id",
   "metadata": {
    "collapsed": true,
    "ExecuteTime": {
     "end_time": "2024-06-19T09:39:01.794005Z",
     "start_time": "2024-06-19T09:39:00.891561Z"
    }
   },
   "source": [
    "import pandas as pd\n",
    "from string import ascii_uppercase as alphabet\n",
    "import pickle\n",
    "all_tables=pd.read_html('https://www.skysports.com/euro-2024-table')\n",
    "all_tables[0]\n",
    "all_tables[1]\n",
    "all_tables[2]\n",
    "all_tables[3]\n",
    "all_tables[4]\n",
    "all_tables[5]"
   ],
   "outputs": [
    {
     "data": {
      "text/plain": [
       "   #            Team  Pl  W  D  L  F  A  GD  Pts  Last 6\n",
       "0  1          Turkey   1  1  0  0  3  1   2    3     NaN\n",
       "1  2  Czech Republic   0  0  0  0  0  0   0    0     NaN\n",
       "2  3        Portugal   0  0  0  0  0  0   0    0     NaN\n",
       "3  4         Georgia   1  0  0  1  1  3  -2    0     NaN"
      ],
      "text/html": [
       "<div>\n",
       "<style scoped>\n",
       "    .dataframe tbody tr th:only-of-type {\n",
       "        vertical-align: middle;\n",
       "    }\n",
       "\n",
       "    .dataframe tbody tr th {\n",
       "        vertical-align: top;\n",
       "    }\n",
       "\n",
       "    .dataframe thead th {\n",
       "        text-align: right;\n",
       "    }\n",
       "</style>\n",
       "<table border=\"1\" class=\"dataframe\">\n",
       "  <thead>\n",
       "    <tr style=\"text-align: right;\">\n",
       "      <th></th>\n",
       "      <th>#</th>\n",
       "      <th>Team</th>\n",
       "      <th>Pl</th>\n",
       "      <th>W</th>\n",
       "      <th>D</th>\n",
       "      <th>L</th>\n",
       "      <th>F</th>\n",
       "      <th>A</th>\n",
       "      <th>GD</th>\n",
       "      <th>Pts</th>\n",
       "      <th>Last 6</th>\n",
       "    </tr>\n",
       "  </thead>\n",
       "  <tbody>\n",
       "    <tr>\n",
       "      <th>0</th>\n",
       "      <td>1</td>\n",
       "      <td>Turkey</td>\n",
       "      <td>1</td>\n",
       "      <td>1</td>\n",
       "      <td>0</td>\n",
       "      <td>0</td>\n",
       "      <td>3</td>\n",
       "      <td>1</td>\n",
       "      <td>2</td>\n",
       "      <td>3</td>\n",
       "      <td>NaN</td>\n",
       "    </tr>\n",
       "    <tr>\n",
       "      <th>1</th>\n",
       "      <td>2</td>\n",
       "      <td>Czech Republic</td>\n",
       "      <td>0</td>\n",
       "      <td>0</td>\n",
       "      <td>0</td>\n",
       "      <td>0</td>\n",
       "      <td>0</td>\n",
       "      <td>0</td>\n",
       "      <td>0</td>\n",
       "      <td>0</td>\n",
       "      <td>NaN</td>\n",
       "    </tr>\n",
       "    <tr>\n",
       "      <th>2</th>\n",
       "      <td>3</td>\n",
       "      <td>Portugal</td>\n",
       "      <td>0</td>\n",
       "      <td>0</td>\n",
       "      <td>0</td>\n",
       "      <td>0</td>\n",
       "      <td>0</td>\n",
       "      <td>0</td>\n",
       "      <td>0</td>\n",
       "      <td>0</td>\n",
       "      <td>NaN</td>\n",
       "    </tr>\n",
       "    <tr>\n",
       "      <th>3</th>\n",
       "      <td>4</td>\n",
       "      <td>Georgia</td>\n",
       "      <td>1</td>\n",
       "      <td>0</td>\n",
       "      <td>0</td>\n",
       "      <td>1</td>\n",
       "      <td>1</td>\n",
       "      <td>3</td>\n",
       "      <td>-2</td>\n",
       "      <td>0</td>\n",
       "      <td>NaN</td>\n",
       "    </tr>\n",
       "  </tbody>\n",
       "</table>\n",
       "</div>"
      ]
     },
     "execution_count": 2,
     "metadata": {},
     "output_type": "execute_result"
    }
   ],
   "execution_count": 2
  },
  {
   "metadata": {
    "ExecuteTime": {
     "end_time": "2024-06-19T09:39:08.704785Z",
     "start_time": "2024-06-19T09:39:08.699952Z"
    }
   },
   "cell_type": "code",
   "source": [
    "dict_table = {}\n",
    "for letter, i in zip(alphabet, range(0,6,1)):\n",
    "  df = all_tables[i]\n",
    "  df.pop('Last 6')\n",
    "  dict_table [f'Group {letter}'] = df"
   ],
   "id": "895869eda6144c99",
   "outputs": [],
   "execution_count": 3
  },
  {
   "metadata": {
    "ExecuteTime": {
     "end_time": "2024-06-19T09:39:22.621090Z",
     "start_time": "2024-06-19T09:39:22.601652Z"
    }
   },
   "cell_type": "code",
   "source": "dict_table",
   "id": "970b2a4743889ea5",
   "outputs": [
    {
     "data": {
      "text/plain": [
       "{'Group A':    #         Team  Pl  W  D  L  F  A  GD  Pts\n",
       " 0  1      Germany   1  1  0  0  5  1   4    3\n",
       " 1  2  Switzerland   1  1  0  0  3  1   2    3\n",
       " 2  3      Hungary   1  0  0  1  1  3  -2    0\n",
       " 3  4     Scotland   1  0  0  1  1  5  -4    0,\n",
       " 'Group B':    #     Team  Pl  W  D  L  F  A  GD  Pts\n",
       " 0  1    Spain   1  1  0  0  3  0   3    3\n",
       " 1  2    Italy   1  1  0  0  2  1   1    3\n",
       " 2  3  Albania   1  0  0  1  1  2  -1    0\n",
       " 3  4  Croatia   1  0  0  1  0  3  -3    0,\n",
       " 'Group C':    #      Team  Pl  W  D  L  F  A  GD  Pts\n",
       " 0  1   England   1  1  0  0  1  0   1    3\n",
       " 1  2   Denmark   1  0  1  0  1  1   0    1\n",
       " 2  3  Slovenia   1  0  1  0  1  1   0    1\n",
       " 3  4    Serbia   1  0  0  1  0  1  -1    0,\n",
       " 'Group D':    #         Team  Pl  W  D  L  F  A  GD  Pts\n",
       " 0  1  Netherlands   1  1  0  0  2  1   1    3\n",
       " 1  2       France   1  1  0  0  1  0   1    3\n",
       " 2  3       Poland   1  0  0  1  1  2  -1    0\n",
       " 3  4      Austria   1  0  0  1  0  1  -1    0,\n",
       " 'Group E':    #      Team  Pl  W  D  L  F  A  GD  Pts\n",
       " 0  1   Romania   1  1  0  0  3  0   3    3\n",
       " 1  2  Slovakia   1  1  0  0  1  0   1    3\n",
       " 2  3   Belgium   1  0  0  1  0  1  -1    0\n",
       " 3  4   Ukraine   1  0  0  1  0  3  -3    0,\n",
       " 'Group F':    #            Team  Pl  W  D  L  F  A  GD  Pts\n",
       " 0  1          Turkey   1  1  0  0  3  1   2    3\n",
       " 1  2  Czech Republic   0  0  0  0  0  0   0    0\n",
       " 2  3        Portugal   0  0  0  0  0  0   0    0\n",
       " 3  4         Georgia   1  0  0  1  1  3  -2    0}"
      ]
     },
     "execution_count": 4,
     "metadata": {},
     "output_type": "execute_result"
    }
   ],
   "execution_count": 4
  },
  {
   "metadata": {
    "ExecuteTime": {
     "end_time": "2024-06-18T19:10:13.778055Z",
     "start_time": "2024-06-18T19:10:13.771465Z"
    }
   },
   "cell_type": "code",
   "source": [
    "with open ('dict_table', 'wb') as output:\n",
    "  pickle.dump(dict_table, output)"
   ],
   "id": "4169866d858c036e",
   "outputs": [],
   "execution_count": 3
  },
  {
   "metadata": {},
   "cell_type": "code",
   "outputs": [],
   "execution_count": null,
   "source": "",
   "id": "e97ef999d6c1b517"
  }
 ],
 "metadata": {
  "kernelspec": {
   "display_name": "Python 3",
   "language": "python",
   "name": "python3"
  },
  "language_info": {
   "codemirror_mode": {
    "name": "ipython",
    "version": 2
   },
   "file_extension": ".py",
   "mimetype": "text/x-python",
   "name": "python",
   "nbconvert_exporter": "python",
   "pygments_lexer": "ipython2",
   "version": "2.7.6"
  }
 },
 "nbformat": 4,
 "nbformat_minor": 5
}
